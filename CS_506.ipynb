{
  "nbformat": 4,
  "nbformat_minor": 0,
  "metadata": {
    "colab": {
      "provenance": [],
      "include_colab_link": true
    },
    "kernelspec": {
      "name": "python3",
      "display_name": "Python 3"
    },
    "language_info": {
      "name": "python"
    }
  },
  "cells": [
    {
      "cell_type": "markdown",
      "metadata": {
        "id": "view-in-github",
        "colab_type": "text"
      },
      "source": [
        "<a href=\"https://colab.research.google.com/github/RJames34/cs506-off_campus_housing-Ren-James/blob/main/CS_506.ipynb\" target=\"_parent\"><img src=\"https://colab.research.google.com/assets/colab-badge.svg\" alt=\"Open In Colab\"/></a>"
      ]
    },
    {
      "cell_type": "code",
      "execution_count": null,
      "metadata": {
        "id": "rJr2dNkqK45w"
      },
      "outputs": [],
      "source": [
        "# Importing libraries we will need\n",
        "import pandas as pd\n",
        "import numpy as np\n",
        "import os\n",
        "import matplotlib.pyplot as plt\n",
        "import seaborn as sns\n",
        "\n",
        "#Import more as we go along"
      ]
    },
    {
      "cell_type": "code",
      "source": [
        "# Importing the dataset for use\n",
        "filename = os.path.join(os.getcwd(), \"data\", \"place_data_set_here.CSV\")"
      ],
      "metadata": {
        "id": "uS_eMQq09Uxd"
      },
      "execution_count": null,
      "outputs": []
    },
    {
      "cell_type": "code",
      "source": [
        "# Creating a variable to hold the data set\n",
        "df = pd.read_csv(filename)"
      ],
      "metadata": {
        "id": "aPRChDmO-Gn8"
      },
      "execution_count": null,
      "outputs": []
    },
    {
      "cell_type": "code",
      "source": [],
      "metadata": {
        "id": "X0MzFmnB9hD-"
      },
      "execution_count": null,
      "outputs": []
    }
  ]
}